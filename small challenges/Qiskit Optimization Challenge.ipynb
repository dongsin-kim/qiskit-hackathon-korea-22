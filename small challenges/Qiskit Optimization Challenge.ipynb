{
 "cells": [
  {
   "cell_type": "markdown",
   "id": "ff99e3b0",
   "metadata": {},
   "source": [
    "# Qiskit Hackathon Korea 2022"
   ]
  },
  {
   "cell_type": "markdown",
   "id": "30fffb5e",
   "metadata": {},
   "source": [
    "## Qiskit Optimization Challenge\n",
    "## : Optimizing your bakery with quantum computers\n",
    "\n",
    "## 여러분의 빵집을 양자컴퓨터로 최적 운영해 봅시다!"
   ]
  },
  {
   "cell_type": "markdown",
   "id": "d98f1918",
   "metadata": {},
   "source": [
    "![fig1](https://github.com/dongsin-kim/qiskit-optimization-image/blob/main/img/figure1.jpg?raw=true)\n",
    "*Source: VugarAhmadov, Pixabay(https://pixabay.com/images/id-6486963/)*"
   ]
  },
  {
   "cell_type": "markdown",
   "id": "276f9e74",
   "metadata": {},
   "source": [
    "In this challenge, we will solve an optimization problem using `Qiskit Optimization` module. The `Qiskit Optimization` module enables us to build high-level mathematical models (of optimization problems) with automatic conversions of the problems to different required representations. This module also contains a suite of easy-to-use quantum optimization algorithms that are prepared for not only real quantum devices but also classical simulators. It provides a good playground for researchers and practitioners to develop and test with new optimization algorithms. For more details about the module, please refer to the references[1-5].\n",
    "\n",
    "이번 챌린지에서는 `Qiskit Optimization` 모듈을 사용하여 최적화 문제를 해결합니다. `Qiskit Optimization` 모듈을 사용하면 문제를 양자컴퓨터에 실행하기 위해 필요한 다양한 양식으로 자동 변환하여 사용자가 편리하게 높은 수준의 수학 모델(최적화 문제의)을 구축할 수 있습니다. 이 모듈에는 실제 양자 장치뿐만 아니라 고전적인 시뮬레이터를 위해 준비된 사용하기 쉬운 양자 최적화 알고리즘 제품군도 포함되어 있습니다. 연습 중인 사람도, 실질적인 연구를 진행하는 사람도 새로운 최적화 알고리즘을 개발하고 테스트할 수 있는 좋은 환경을. 모듈에 대한 자세한 내용은 참고 문헌[1-5]을 참조하십시오.\n",
    "\n",
    "This notebook consists of Part 1 and Part 2. In Part 1, we will get familiar with `Qiskit Optimization` module when a mathematical model (of a simple optimization problem) is given. In Part 2, we will find optimal amounts of a **chocolate bread** and **wheat bread** to produce (for maximizing profits as a bakery owner) when materials (**chocolate** and **wheat flour**) are limited.\n",
    "\n",
    "이 노트북은 1부와 2부로 구성되어 있습니다. 1부에서는 (단순한 최적화 문제의) 수학적 모델이 주어질 때 `Qiskit Optimization` 모듈을 사용하는 방법을 배워볼 것입니다. 2부에서는 주어진 제한된 재료(**초콜릿**, **밀가루**)로 (빵집 주인으로서 이익을 극대화하기 위해) 생산할 **초콜릿 빵**과 **식빵**의 최적량을 찾습니다."
   ]
  },
  {
   "cell_type": "markdown",
   "id": "632fc51e",
   "metadata": {},
   "source": [
    "## Part 1: Practice How to Model an Optimization Problem (using `Qiskit Optimization` module)\n",
    "\n",
    "## 파트 1: 최적화 문제 모델링 방법 연습(`Qiskit Optimization` 모듈 사용)"
   ]
  },
  {
   "cell_type": "markdown",
   "id": "281e1292",
   "metadata": {},
   "source": [
    "In this part, we are going to learn about how to model a simple optimization problem using `Qiskit Optimization` module. Consider a maximization problem with two variables (`x` and `y`) and some constraints as follows:\n",
    "\n",
    "여기에서는 `Qiskit Optimization` 모듈을 사용하여 간단한 최적화 문제를 모델링하는 방법에 대해 배워 보겠습니다. 다음과 같은 두 개의 변수(`x` 및 `y`)와 몇 가지 제약 조건이 있는 최대화 문제를 설정해봅시다."
   ]
  },
  {
   "cell_type": "markdown",
   "id": "889b1609",
   "metadata": {},
   "source": [
    "![fig2](https://github.com/dongsin-kim/qiskit-optimization-image/blob/main/img/figure2.png?raw=true)\n",
    "*Source: Dongsin Kim*"
   ]
  },
  {
   "cell_type": "markdown",
   "id": "9a355c0e",
   "metadata": {},
   "source": [
    "### 0. Prerequisite (사전 준비)"
   ]
  },
  {
   "cell_type": "markdown",
   "id": "491aef17",
   "metadata": {},
   "source": [
    "Please make sure to install the `Qiskit Optimization` module by using the command `pip install qiskit[optimization]` on your local device.\n",
    "\n",
    "로컬 장치에 `pip install qiskit[optimization]` 명령을 사용하여 `Qiskit Optimization` 모듈을 미리 설치해주세요.\n",
    "\n",
    "**Tip** `pip install qiskit[all]` 명령어를 사용하면 `Qiskit Optimization`, `Qiskit Nature` 등등 Qiskit의 모든 모듈을 한번에 설치할 수 있습니다."
   ]
  },
  {
   "cell_type": "markdown",
   "id": "4ac88db4",
   "metadata": {},
   "source": [
    "### 1. Define `QuadraticProgram`  (`QuadraticProgram`  정의)"
   ]
  },
  {
   "cell_type": "markdown",
   "id": "939124bc",
   "metadata": {},
   "source": [
    "In this notebook, we will not go into details about what is a quadratic problem or what is a quadratic programming. Please refer to the references[2-6].\n",
    "\n",
    "Let's construct the above maximization problem on `QuadraticProgram` instance[7]. The instance consists of the following three elements:\n",
    "- variable(s)\n",
    "- an objective function\n",
    "- constraint(s)\n",
    "\n",
    "이 노트북에서는 2차 문제가 무엇인지 또는 2차 프로그래밍이 무엇인지에 대해 자세히 설명하지 않습니다. 자세한 정보는 참고문헌[2-6]을 참고하시기 바랍니다.\n",
    "\n",
    "위의 최대화 문제를 `QuadraticProgram` 인스턴스[7]에 구성해 보겠습니다. 인스턴스는 다음 세 가지 요소로 구성됩니다.\n",
    "- 변수(들)\n",
    "- 목적 함수\n",
    "- 제약 조건(들)"
   ]
  },
  {
   "cell_type": "code",
   "execution_count": 1,
   "id": "1e1e16a7",
   "metadata": {},
   "outputs": [],
   "source": [
    "# Import auxiliary libraries\n",
    "\n",
    "# Import Qiskit\n",
    "from qiskit import Aer\n",
    "from qiskit.algorithms import QAOA, NumPyMinimumEigensolver\n",
    "from qiskit.utils import QuantumInstance\n",
    "\n",
    "from qiskit_optimization import QuadraticProgram\n",
    "from qiskit_optimization.algorithms import MinimumEigenOptimizer"
   ]
  },
  {
   "cell_type": "code",
   "execution_count": 2,
   "id": "303ee2ad",
   "metadata": {},
   "outputs": [],
   "source": [
    "qp_ex = QuadraticProgram()"
   ]
  },
  {
   "cell_type": "markdown",
   "id": "ff68e461",
   "metadata": {},
   "source": [
    "### 2. Add variables (변수 추가)"
   ]
  },
  {
   "cell_type": "markdown",
   "id": "c41cb269",
   "metadata": {},
   "source": [
    "The `QuadraticProgram` instance supports continuous, binary, and integer variables.\n",
    "\n",
    "`QuadraticProgram` 인스턴스는 연속, 이진 및 정수 변수를 지원합니다. 예제 문제에서 x와 y는, $0 \\leq x \\leq 100$ 와 $0 \\leq y \\leq 100$를 만족하므로 다음과 같은 제한조건을 주어 정의합니다."
   ]
  },
  {
   "cell_type": "code",
   "execution_count": 3,
   "id": "ed24d7f9",
   "metadata": {},
   "outputs": [
    {
     "data": {
      "text/plain": [
       "<qiskit_optimization.problems.variable.Variable at 0x7fa750a1b2b0>"
      ]
     },
     "execution_count": 3,
     "metadata": {},
     "output_type": "execute_result"
    }
   ],
   "source": [
    "qp_ex.integer_var(lowerbound=0, upperbound=100, name='x')\n",
    "qp_ex.integer_var(lowerbound=0, upperbound=100, name='y')"
   ]
  },
  {
   "cell_type": "markdown",
   "id": "d339d281",
   "metadata": {},
   "source": [
    "### 3. Add an objective function (목적함수 추가)"
   ]
  },
  {
   "cell_type": "markdown",
   "id": "d8234820",
   "metadata": {},
   "source": [
    "Please note that this is a maximization problem. For a minimization problem case, you could use `.minimize(...)` method to define an objective function.\n",
    "\n",
    "이 예제는 최대화 문제임을 기억해 주세요. 최소화 문제의 경우 `.minimize(...)` 메서드를 사용하여 목적 함수를 정의할 수 있습니다. 최대화 해야하는 함수 $100x + 40y$를 다음과 같이 선형 방정식으로 정의합니다."
   ]
  },
  {
   "cell_type": "code",
   "execution_count": 5,
   "id": "569cd9b0",
   "metadata": {},
   "outputs": [],
   "source": [
    "qp_ex.maximize(linear={'x': 100, 'y': 40})"
   ]
  },
  {
   "cell_type": "markdown",
   "id": "56a65084",
   "metadata": {},
   "source": [
    "### 4. Add constraints (제약 조건 추가)"
   ]
  },
  {
   "cell_type": "markdown",
   "id": "663092ff",
   "metadata": {},
   "source": [
    "The `QuadraticProgram` instance supports inequality and equality constraints.\n",
    "\n",
    "'QuadraticProgram' 인스턴스는 부등식 및 항등식 제약 조건을 지원합니다. 문제의 두 제약조건인 $10x \\leq 100$과 $100x + 50y \\leq 3000$을 다음과 같이 정의합니다. "
   ]
  },
  {
   "cell_type": "code",
   "execution_count": 6,
   "id": "46740453",
   "metadata": {},
   "outputs": [
    {
     "data": {
      "text/plain": [
       "<qiskit_optimization.problems.linear_constraint.LinearConstraint at 0x7fa771438ee0>"
      ]
     },
     "execution_count": 6,
     "metadata": {},
     "output_type": "execute_result"
    }
   ],
   "source": [
    "qp_ex.linear_constraint(linear={'x': 100, 'y': 50}, sense='LE', rhs=3000, name='constraints_1')\n",
    "qp_ex.linear_constraint(linear={'x': 10},           sense='LE', rhs=100,  name='constraints_2')"
   ]
  },
  {
   "cell_type": "markdown",
   "id": "0d571576",
   "metadata": {},
   "source": [
    "### 5. Print the model (모델 확인)"
   ]
  },
  {
   "cell_type": "markdown",
   "id": "442976dc",
   "metadata": {},
   "source": [
    "We could print out and check the constructed `QuadraticProgram` instance.\n",
    "\n",
    "문제를 출력해서 만들어진 `QuadraticProgram` 인스턴스를 확인해 봅시다."
   ]
  },
  {
   "cell_type": "code",
   "execution_count": 7,
   "id": "8d25f8b2",
   "metadata": {},
   "outputs": [
    {
     "name": "stdout",
     "output_type": "stream",
     "text": [
      "\\ This file has been generated by DOcplex\n",
      "\\ ENCODING=ISO-8859-1\n",
      "\\Problem name: CPLEX\n",
      "\n",
      "Maximize\n",
      " obj: 100 x + 40 y\n",
      "Subject To\n",
      " constraints_1: 100 x + 50 y <= 3000\n",
      " constraints_2: 10 x <= 100\n",
      "\n",
      "Bounds\n",
      "       x <= 100\n",
      "       y <= 100\n",
      "\n",
      "Generals\n",
      " x y\n",
      "End\n",
      "\n"
     ]
    }
   ],
   "source": [
    "print(qp_ex.export_as_lp_string())"
   ]
  },
  {
   "cell_type": "markdown",
   "id": "bb038b7f",
   "metadata": {},
   "source": [
    "## Part 2: Solve a Bread Amounts Optimization Problem (using `Qiskit Optimization`)\n",
    "\n",
    "## Part 2: 빵 제작 최적화 문제 해결(`Qiskit Optimization` 사용)"
   ]
  },
  {
   "cell_type": "markdown",
   "id": "fd99988a",
   "metadata": {},
   "source": [
    "In this part, we are going to tackle an example and solve the problem with `Qiskit Optimization` module. We will run a quantum algorithm on a quantum device and a classical algorithm on a classical simulator. And then, we will aim to compare each answer.\n",
    "\n",
    "이 부분에서는 `Qiskit Optimization` 모듈을 사용하여 예제를 해결하고 본 챌린지 문제를 해결할 것입니다. 양자 장치에서 양자 알고리즘을 실행하고 고전 시뮬레이터에서 고전 알고리즘을 실행합니다. 그런 다음 각 답변을 비교하는 것을 목표로 합니다."
   ]
  },
  {
   "cell_type": "markdown",
   "id": "f80e735c",
   "metadata": {},
   "source": [
    "*Example) Mr. Simon is an owner of the Simon's bakery. The bakery has two products: **chocolate bread** and **wheat bread**. A revenue from a sale of one **chocolate bread** is 3 dollars and a revenue from a sale of one **wheat bread** is 2 dollars. He uses 1 unit of **chocolate** and 1 unit of **wheat flour** to make one **chocolate bread**. For making one **wheat bread**, 2 units of **wheat flour** are required. It's almost time to close the shop and he has only 2 units of **chocolate** and 4 units of **wheat flour**. Assumes that he could sell all of the breads before closing. To maximize the revenue, what is the best strategy — amounts of breads (**chocolate bread**, **wheat bread**) — for him to produce?*\n",
    "\n",
    "*예) 제과제빵 명장 김동신 장인은 동신 빵집의 주인입니다. 베이커리에는 **초콜릿 빵**과 **식빵**의 두 가지 제품이 있습니다. **초콜릿 빵** 하나의 판매 수익은 3달러이고 **식빵** 하나의 판매 수익은 2달러입니다. 그는 **초콜릿** 1단위와 **밀가루** 1단위를 사용하여 **초콜릿 빵** 하나를 만듭니다. **식빵** 1개를 만들기 위해서는 **밀가루** 2단위가 필요합니다. 가게 문을 거의 닫을 시간인데 **초콜릿** 2단위와 **밀가루** 4단위만 가지고 있습니다. 그가 문을 닫기 전에 모든 빵을 팔 수 있다고 가정할 때 수익을 극대화하기 위해 그가 생산할 빵(**초콜릿 빵**, **밀 빵**)의 양은 무엇일까요?*"
   ]
  },
  {
   "cell_type": "markdown",
   "id": "9ba4b616",
   "metadata": {},
   "source": [
    "### 1. Define `QuadraticProgram` (2차 프로그램 정의)"
   ]
  },
  {
   "cell_type": "code",
   "execution_count": 7,
   "id": "e5e88ca4",
   "metadata": {},
   "outputs": [],
   "source": [
    "qp = QuadraticProgram()"
   ]
  },
  {
   "cell_type": "markdown",
   "id": "c9108e72",
   "metadata": {},
   "source": [
    "### 2. Identify the variables (변수 정의)"
   ]
  },
  {
   "cell_type": "code",
   "execution_count": 8,
   "id": "3d5065fa",
   "metadata": {},
   "outputs": [
    {
     "data": {
      "text/plain": [
       "<qiskit_optimization.problems.variable.Variable at 0x259bf92c4f0>"
      ]
     },
     "execution_count": 8,
     "metadata": {},
     "output_type": "execute_result"
    }
   ],
   "source": [
    "qp.integer_var(lowerbound=0, upperbound=2, name='x')\n",
    "qp.integer_var(lowerbound=0, upperbound=4, name='y')"
   ]
  },
  {
   "cell_type": "markdown",
   "id": "ee7df069",
   "metadata": {},
   "source": [
    "### 3. Write the objective function"
   ]
  },
  {
   "cell_type": "code",
   "execution_count": null,
   "id": "d42e1892",
   "metadata": {},
   "outputs": [],
   "source": [
    "#########################################################################\n",
    "# TODO: Provide your code here\n",
    "\n",
    "\n",
    "\n",
    "#########################################################################"
   ]
  },
  {
   "cell_type": "markdown",
   "id": "52a54dbf",
   "metadata": {},
   "source": [
    "### 4. Construct the constraints"
   ]
  },
  {
   "cell_type": "code",
   "execution_count": null,
   "id": "ade3d21e",
   "metadata": {},
   "outputs": [],
   "source": [
    "#########################################################################\n",
    "# TODO: Provide your code here\n",
    "\n",
    "\n",
    "\n",
    "\n",
    "#########################################################################"
   ]
  },
  {
   "cell_type": "markdown",
   "id": "93f91869",
   "metadata": {},
   "source": [
    "### 5. Print the output model"
   ]
  },
  {
   "cell_type": "code",
   "execution_count": null,
   "id": "9d17ff51",
   "metadata": {},
   "outputs": [],
   "source": [
    "print(qp.export_as_lp_string())"
   ]
  },
  {
   "cell_type": "markdown",
   "id": "8eca5d35",
   "metadata": {},
   "source": [
    "### 6. Solve the problem and compare the results"
   ]
  },
  {
   "cell_type": "markdown",
   "id": "da91e39a",
   "metadata": {},
   "source": [
    "#### Solution from the quantum device"
   ]
  },
  {
   "cell_type": "code",
   "execution_count": null,
   "id": "24c33f1b",
   "metadata": {},
   "outputs": [],
   "source": [
    "qins = QuantumInstance(backend=Aer.get_backend('qasm_simulator'), shots=1000, seed_simulator=0)\n",
    "\n",
    "# Define QAOA solver\n",
    "meo = MinimumEigenOptimizer(min_eigen_solver=QAOA(reps=1, quantum_instance=qins))\n",
    "\n",
    "result = meo.solve(qp)\n",
    "\n",
    "print('result:', result._variables_dict)\n",
    "# print('status:', result._status)\n",
    "# print('time:', result.min_eigen_solver_result.optimizer_time)"
   ]
  },
  {
   "cell_type": "markdown",
   "id": "1aa5ec67",
   "metadata": {},
   "source": [
    "#### Solution from the classical simulator"
   ]
  },
  {
   "cell_type": "code",
   "execution_count": null,
   "id": "89ec3cdd",
   "metadata": {},
   "outputs": [],
   "source": [
    "exact_mes = NumPyMinimumEigensolver()\n",
    "exact = MinimumEigenOptimizer(exact_mes)  # using the exact classical numpy minimum eigen solver\n",
    "\n",
    "exact_result = exact.solve(qp)\n",
    "\n",
    "print('result:', exact_result._variables_dict)\n",
    "# print('status:', exact_result._status)"
   ]
  },
  {
   "cell_type": "markdown",
   "id": "83d7731d",
   "metadata": {},
   "source": [
    "## References\n",
    "\n",
    "[1] \"Qiskit Optimization (GitHub)\" https://github.com/Qiskit/qiskit-optimization\n",
    "\n",
    "[2] \"Qiskit tutorials: Optimization\"\n",
    "https://quantum-computing.ibm.com/lab/docs/iql/optimization\n",
    "\n",
    "[3] \"A Walkthrough of Qiskit’s New Optimization Module\"\n",
    "https://medium.com/qiskit/towards-quantum-advantage-for-optimization-with-qiskit-9a564339ef26\n",
    "\n",
    "[4] \"Qiskit Optimization & Machine Learning Demo Session with Atsushi Matsuo & Anton Dekusar\" https://youtu.be/claoY57eVIc\n",
    "\n",
    "[5] \"Introduction to Qiskit Optimization\" https://github.com/qiskit-community/qiskit-application-modules-demo-sessions/blob/main/qiskit-optimization/qiskit-optimization-demo.ipynb\n",
    "\n",
    "[6] \"Quadratic programming | Wikipedia\"\n",
    "https://en.wikipedia.org/wiki/Quadratic_programming\n",
    "\n",
    "[7] \"QuadraticProgram\" https://qiskit.org/documentation/optimization/stubs/qiskit_optimization.QuadraticProgram.html\n",
    "\n",
    "[8] \"Linear programming | Wikipedia\" https://en.wikipedia.org/wiki/Linear_programming\n",
    "\n",
    "[9] \"선형계획법 | Wikipedia\" https://ko.wikipedia.org/wiki/%EC%84%A0%ED%98%95_%EA%B3%84%ED%9A%8D%EB%B2%95"
   ]
  },
  {
   "cell_type": "markdown",
   "id": "be77554f",
   "metadata": {},
   "source": [
    "## Submit your answer here (until 11 Feb, 23:59):\n",
    "\n",
    "### https://surveyl.ink/PVhpwP\n",
    "\n",
    "Challenge topic made by: Dongsin Kim"
   ]
  }
 ],
 "metadata": {
  "kernelspec": {
   "display_name": "Python 3 (ipykernel)",
   "language": "python",
   "name": "python3"
  },
  "language_info": {
   "codemirror_mode": {
    "name": "ipython",
    "version": 3
   },
   "file_extension": ".py",
   "mimetype": "text/x-python",
   "name": "python",
   "nbconvert_exporter": "python",
   "pygments_lexer": "ipython3",
   "version": "3.9.7"
  }
 },
 "nbformat": 4,
 "nbformat_minor": 5
}
